{
 "cells": [
  {
   "cell_type": "code",
   "execution_count": 8,
   "metadata": {},
   "outputs": [],
   "source": [
    "include(\"ChebyshevPSI2025.jl\")\n",
    "using .ChebyshevPSI2025"
   ]
  },
  {
   "cell_type": "code",
   "execution_count": 9,
   "metadata": {},
   "outputs": [],
   "source": [
    "using Interpolations\n",
    "using CairoMakie\n",
    "# using FastGaussQuadrature\n",
    "# using SixelTerm"
   ]
  },
  {
   "cell_type": "code",
   "execution_count": 10,
   "metadata": {},
   "outputs": [
    {
     "data": {
      "text/plain": [
       "f (generic function with 1 method)"
      ]
     },
     "metadata": {},
     "output_type": "display_data"
    }
   ],
   "source": [
    "function f(x)\n",
    "    return sin(10*x)\n",
    "end\n"
   ]
  },
  {
   "cell_type": "code",
   "execution_count": 11,
   "metadata": {},
   "outputs": [],
   "source": [
    "# coefficients = Vector{Float64}()\n",
    "# cheb_vec= Vector{Function}()\n",
    "\n",
    "\n",
    "# for i in 1:10\n",
    "#     push!(cheb_vec,x->cos(i * acos(x)))\n",
    "#     push!(coefficients,chebdot(f,cheb_vec[i]))\n",
    "#     println(\"C_\",i,\"  \",coefficients[i])\n",
    "# end"
   ]
  },
  {
   "cell_type": "code",
   "execution_count": 12,
   "metadata": {},
   "outputs": [],
   "source": [
    "# xs = range(-1, 1, 1000)\n",
    "\n",
    "# cheb_approx=Vector{Float64}()\n",
    "# for i in 1:length(xs)\n",
    "#     cheb_exp=0.\n",
    "#     for j in 1:10\n",
    "#         cheb_exp+=coefficients[j]*cheb(j,xs[i])\n",
    "#     end\n",
    "#     push!(cheb_approx,cheb_exp)\n",
    "# end"
   ]
  },
  {
   "cell_type": "code",
   "execution_count": 65,
   "metadata": {},
   "outputs": [
    {
     "data": {
      "text/plain": [
       "chebyshev_coefficient (generic function with 1 method)"
      ]
     },
     "metadata": {},
     "output_type": "display_data"
    }
   ],
   "source": [
    "function chebyshev_coefficient(f,number)\n",
    "    coefficients = Vector{Float64}()\n",
    "    cheb_vec= Vector{Function}()\n",
    "    for i in 1:number\n",
    "        if i == 1\n",
    "            push!(coefficients,chebdot(f,x->1)/pi)\n",
    "        else\n",
    "            # push!(cheb_vec,x->cos((i-1) * acos(x)))\n",
    "            push!(coefficients,chebdot(f,x->cos((i-1) * acos(x)))*2/pi)\n",
    "        end\n",
    "    end\n",
    "    return coefficients\n",
    "end"
   ]
  },
  {
   "cell_type": "code",
   "execution_count": 64,
   "metadata": {},
   "outputs": [
    {
     "data": {
      "text/plain": [
       "-1.0380977085332311e-16"
      ]
     },
     "metadata": {},
     "output_type": "display_data"
    }
   ],
   "source": [
    "chebdot(f,x->1)/pi"
   ]
  },
  {
   "cell_type": "code",
   "execution_count": 71,
   "metadata": {},
   "outputs": [
    {
     "data": {
      "text/plain": [
       "chebyshev_approx (generic function with 1 method)"
      ]
     },
     "metadata": {},
     "output_type": "display_data"
    }
   ],
   "source": [
    "function chebyshev_approx(f,number,xs)\n",
    "    # xs = range(-1, 1, 1000)\n",
    "    cheb_approx=Vector{Float64}()\n",
    "    coefficients = chebyshev_coefficient(f,number)\n",
    "    for i in 1:length(xs)\n",
    "        cheb_exp=0.\n",
    "        for j in 1:number\n",
    "            cheb_exp+=coefficients[j]*cheb(j-1,xs[i])\n",
    "        end\n",
    "        push!(cheb_approx,cheb_exp)\n",
    "    end\n",
    "    return cheb_approx\n",
    "end"
   ]
  },
  {
   "cell_type": "code",
   "execution_count": 72,
   "metadata": {},
   "outputs": [
    {
     "name": "stdout",
     "output_type": "stream",
     "text": [
      "[-1.0380977085332311e-16, 0.08694549233772315, -1.2589695614126422e-16, -0.11675875861037355, 3.533949646070574e-17, -0.46812305637358725, 1.3252311172764653e-17, -0.43342183537010287, -3.754821498949985e-17, 0.5837113705302404]\n"
     ]
    }
   ],
   "source": [
    "println(chebyshev_coefficient(f,10))"
   ]
  },
  {
   "cell_type": "code",
   "execution_count": 73,
   "metadata": {},
   "outputs": [],
   "source": [
    "xs = range(-1, 1, 1000)\n",
    "cheb_approx=chebyshev_approx(f,10,xs);"
   ]
  },
  {
   "cell_type": "code",
   "execution_count": 74,
   "metadata": {},
   "outputs": [
    {
     "data": {
      "text/plain": [
       "CairoMakie.Screen{IMAGE}\n"
      ]
     },
     "metadata": {},
     "output_type": "display_data"
    }
   ],
   "source": [
    "figure = Figure()\n",
    "ax = Axis(figure[1,1], title=\"Chebyshev expansion of f(x)=sin(10*x), with the number of polynomials n=10\", xlabel=\"x\", ylabel=\"y\")\n",
    "lines!(xs,f.(xs))\n",
    "lines!(xs,cheb_approx)\n",
    "#lines!(xs,f.(xs)-cheb_approx)\n",
    "# figure\n",
    "Axis(figure[2,1], title=\"Error in expansion\", xlabel=\"x\", ylabel=\"delta\")\n",
    "lines!(xs, f.(xs)- cheb_approx)\n",
    "# figure\n",
    "save(\"Chebyshev_10.png\", figure)\n"
   ]
  },
  {
   "cell_type": "code",
   "execution_count": 75,
   "metadata": {},
   "outputs": [
    {
     "data": {
      "text/plain": [
       "CairoMakie.Screen{IMAGE}\n"
      ]
     },
     "metadata": {},
     "output_type": "display_data"
    }
   ],
   "source": [
    "cheb_approx_50=chebyshev_approx(f, 50,xs)\n",
    "figure = Figure()\n",
    "ax = Axis(figure[1,1], title=\"Chebyshev expansion of f(x)=sin(10*x), with the number of polynomials n=50\", xlabel=\"x\", ylabel=\"y\")\n",
    "lines!(xs,f.(xs))\n",
    "lines!(xs,cheb_approx_50)\n",
    "#lines!(xs,f.(xs)-cheb_approx)\n",
    "# figure\n",
    "Axis(figure[2,1], title=\"Error in expansion\", xlabel=\"x\", ylabel=\"delta\")\n",
    "lines!(xs, f.(xs)- cheb_approx_50)\n",
    "# figure\n",
    "save(\"Chebyshev_50.png\", figure)"
   ]
  },
  {
   "cell_type": "code",
   "execution_count": 76,
   "metadata": {},
   "outputs": [
    {
     "name": "stdout",
     "output_type": "stream",
     "text": [
      "n_f 26\n"
     ]
    }
   ],
   "source": [
    "# Still using f(x)=sin(10*x) as an example, see when the Error is below 10^(-8)\n",
    "n = n_final= 10\n",
    "xs = range(-1, 1, 1000)\n",
    "for n in 10:50\n",
    "    cheb_approx=chebyshev_approx(f,n,xs)\n",
    "    label = 1\n",
    "    for i in 1:length(xs)\n",
    "        err = abs(f(xs[i])-cheb_approx[i])\n",
    "        if err>10^(-8)\n",
    "            break\n",
    "        end\n",
    "        label+=1\n",
    "    end\n",
    "    if label==length(xs)+1\n",
    "        n_final = n\n",
    "        break\n",
    "    else\n",
    "        n+=1\n",
    "    end\n",
    "end\n",
    "println(\"n_f \",n_final)"
   ]
  },
  {
   "cell_type": "markdown",
   "metadata": {},
   "source": [
    "Q3:\n",
    "\n",
    "To simplify the given expression and find the relation ( $c^i = D^i_j b^j$ ), we proceed step by step:\n",
    "\n",
    "---\n",
    "\n",
    "### The given expression for ( $c^i$ )\n",
    "The Chebyshev expansion coefficient ( c^i ) is calculated using:\n",
    "$[\n",
    "c^i = \\frac{1}{\\kappa} \\int_{-1}^1 f(x) T_i(x) \\frac{1}{\\sqrt{1-x^2}} dx,\n",
    "]$\n",
    "where $ \\kappa = \\pi/2$ for $ i > 0 $ and $ \\kappa = \\pi $ for $ i = 0 $.\n",
    "\n",
    "Given that $ f(x) = g'(x) $ with $ g(x) = \\sum_{j=0}^\\infty b^j T_j(x) $, this becomes:\n",
    "$[\n",
    "c^i = \\frac{1}{\\kappa_i} \\int_{-1}^1 g'(x) T_i(x) \\frac{1}{\\sqrt{1-x^2}} dx.\n",
    "]$\n",
    "\n",
    "$[\n",
    "c^i = \\frac{1}{\\kappa_i} \\sum_{j=0}^n b_j\\int_{-1}^1 T'_j(x) T_i(x) \\frac{1}{\\sqrt{1-x^2}} dx.\n",
    "]$\n",
    "\n",
    "### T'(x)\n",
    "\n",
    "$T'_{2n}(x)=2n*2*\\sum_{k=1}^n T_{2k-1}(x)$\n",
    "\n",
    "$T'_{2n+1}(x)=(2n+1)*[T_0(x)+2\\sum_{k=1}^n T_{2k}(x)]$"
   ]
  },
  {
   "cell_type": "code",
   "execution_count": 106,
   "metadata": {},
   "outputs": [],
   "source": [
    "coefficients = chebyshev_coefficient(f,100)\n",
    "c_der=zeros(10)\n",
    "\n",
    "for i in 1:10\n",
    "   for j in 1:100\n",
    "    if i == 1\n",
    "        if (j-1)%2 ==0\n",
    "            c_der[i]+=0\n",
    "        else\n",
    "            c_der[i]+=(j-1)*coefficients[j]\n",
    "        end\n",
    "    elseif (i-1)%2==0\n",
    "        if (j-1)%2 ==0\n",
    "            c_der[i]+=0\n",
    "        elseif j-1<i\n",
    "            c_der[i]+=0\n",
    "        else\n",
    "            c_der[i]+=2*(j-1)*coefficients[j]\n",
    "        end\n",
    "    else\n",
    "        if (j-1)%2!=0\n",
    "            c_der[i]+=0\n",
    "        elseif j-1<i\n",
    "            c_der[i]+=0\n",
    "        else\n",
    "            c_der[i]+=2*(j-1)*coefficients[j]\n",
    "        end\n",
    "    end\n",
    "end\n",
    "end"
   ]
  },
  {
   "cell_type": "code",
   "execution_count": 108,
   "metadata": {},
   "outputs": [],
   "source": [
    "cheb_approx_der_1=Vector{Float64}()\n",
    "for i in 1:length(xs)\n",
    "    cheb_exp=0.\n",
    "    for j in 1:10\n",
    "        cheb_exp+=c_der[j]*cheb(j-1,xs[i])\n",
    "    end\n",
    "    push!(cheb_approx_der_1,cheb_exp)\n",
    "end"
   ]
  },
  {
   "cell_type": "code",
   "execution_count": 82,
   "metadata": {},
   "outputs": [
    {
     "data": {
      "text/plain": [
       "f_der (generic function with 1 method)"
      ]
     },
     "metadata": {},
     "output_type": "display_data"
    }
   ],
   "source": [
    "function f_der(x)\n",
    "    return 10*cos(10*x)\n",
    "end"
   ]
  },
  {
   "cell_type": "code",
   "execution_count": 83,
   "metadata": {},
   "outputs": [],
   "source": [
    "cheb_approx_der_2=chebyshev_approx(f_der,10,xs);"
   ]
  },
  {
   "cell_type": "code",
   "execution_count": 116,
   "metadata": {},
   "outputs": [
    {
     "data": {
      "text/plain": [
       "CairoMakie.Screen{IMAGE}\n"
      ]
     },
     "metadata": {},
     "output_type": "display_data"
    }
   ],
   "source": [
    "figure = Figure()\n",
    "ax = Axis(figure[1,1], title=\"Chebyshev expansion of f'(x)=10*cos(10*x), n=10\", xlabel=\"x\", ylabel=\"y\")\n",
    "lines!(xs,f_der.(xs),linestyle=:solid)\n",
    "lines!(xs,cheb_approx_der_1,linestyle=:dot)\n",
    "lines!(xs,cheb_approx_der_2,linestyle=:dash)\n",
    "save(\"Chebyshev_der_10.png\", figure)"
   ]
  }
 ],
 "metadata": {
  "kernelspec": {
   "display_name": "Julia 1.11.2",
   "language": "julia",
   "name": "julia-1.11"
  },
  "language_info": {
   "file_extension": ".jl",
   "mimetype": "application/julia",
   "name": "julia",
   "version": "1.11.2"
  }
 },
 "nbformat": 4,
 "nbformat_minor": 2
}
